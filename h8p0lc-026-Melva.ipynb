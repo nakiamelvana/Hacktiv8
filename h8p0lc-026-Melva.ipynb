{
 "cells": [
  {
   "cell_type": "markdown",
   "metadata": {},
   "source": [
    "Nama = Nakia Melvana\n",
    "Batch = 026"
   ]
  },
  {
   "cell_type": "code",
   "execution_count": null,
   "metadata": {},
   "outputs": [],
   "source": [
    "#function untuk input barang\n",
    "data = []\n",
    "def stock_management(nama_barang, kategori_barang,harga_barang):\n",
    "    data_barang = [nama_barang, kategori_barang, harga_barang]\n",
    "    data.append(data_barang)\n",
    "\n",
    "#function untuk menampilkan barang yang telah diinput\n",
    "def show_barang():\n",
    "    if len(data) == 0:\n",
    "        print ('Data belum ada')\n",
    "    else:\n",
    "        counter = 0\n",
    "        print ('No.', '|', 'Nama Barang', '|', 'Kategori Barang', '|', 'Harga')\n",
    "        for item in data: \n",
    "          counter += 1\n",
    "          print (counter, '|', item[0],'|', item[1], '|', item[2])\n",
    "        \n",
    "\n",
    "#main program\n",
    "while True:\n",
    "    # print('Menu')\n",
    "    # print('1. Input Data')\n",
    "    # print('2. Menampnilkan data')\n",
    "    input_user = input('pilih menu atau keluar:')\n",
    "\n",
    "    if input_user == 'exit':\n",
    "        break\n",
    "\n",
    "    elif input_user == '1':\n",
    "        nama = input('Masukkan nama barang:')\n",
    "        kategori = input ('Masukkan kategori barang:')\n",
    "        harga = input ('Masukkan harga(rupiah):')\n",
    "        stock_management(nama, kategori, harga)\n",
    "        print('Terimakasih, data Anda telah disimpan')\n",
    "\n",
    "    elif input_user == '2':\n",
    "        show_barang()\n",
    "    else:\n",
    "        print ('masukkan sesuai opsi')"
   ]
  }
 ],
 "metadata": {
  "language_info": {
   "name": "python"
  }
 },
 "nbformat": 4,
 "nbformat_minor": 2
}
