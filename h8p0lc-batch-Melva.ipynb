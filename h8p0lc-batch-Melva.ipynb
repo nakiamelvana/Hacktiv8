{
 "cells": [
  {
   "cell_type": "code",
   "execution_count": null,
   "metadata": {},
   "outputs": [],
   "source": [
    "def stock_management(nama_barang,kategori_barang, harga_barang):\n",
    "  nama_barang = None\n",
    "  kategori_barang = None\n",
    "  harga_barang  = 0\n",
    "  # data = []\n",
    "\n",
    "  while x !='exit':\n",
    "    print('Menu')\n",
    "    print('1.input data')\n",
    "    print('2. menampilkan data')\n",
    "    x = input('pilih menu atau keluar:')\n",
    "\n",
    "    if x == None:\n",
    "      # return'Data Belum Ada'\n",
    "      print('Data Belum Ada')\n",
    "    else:\n",
    "      pass\n",
    "\n",
    "    if x == '2':\n",
    "      # return'data belum tersedia, silahkan pilih menu 1 untuk isi data'\n",
    "      print('data belum tersedia, silahkan pilih menu 1 untuk isi data')\n",
    "    else: \n",
    "      pass\n",
    "      \n",
    "    elif x == 1:\n",
    "      nama_barang = input('Masukkan nama barang:')\n",
    "      kategori_barang = input('Masukkan kategori barang:')\n",
    "      harga_barang = input('Masukkan harga(Rupiah):')\n",
    "\n",
    "      return 'Terimakasih Data Sudah Disimpan'\n",
    "\n",
    "    elif x == 2:\n",
    "      return 'No.|Nama Barang|Kategori Barang|Harga'\n",
    "\n",
    "  \n",
    "    print('Terima Kasih, Sampai Jumpa!')   \n",
    "  \n",
    "  stock_management(nama_barang,kategori_barang, harga_barang)"
   ]
  }
 ],
 "metadata": {
  "language_info": {
   "name": "python"
  }
 },
 "nbformat": 4,
 "nbformat_minor": 2
}
