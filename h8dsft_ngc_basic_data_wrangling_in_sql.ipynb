{
 "cells": [
  {
   "cell_type": "markdown",
   "metadata": {},
   "source": [
    "=================================================\n",
    "Non-Graded Challenge 5\n",
    "\n",
    "Nama  : Nakia Melvana\n",
    "Batch : RMT-026\n",
    "\n",
    "This program is made by using progresql for produce customers and orders table, then calculating orders for each customers.\n",
    "================================================="
   ]
  },
  {
   "cell_type": "markdown",
   "metadata": {},
   "source": [
    "-- create table for customers\n",
    "CREATE TABLE customers (\n",
    "\tcustomer_id serial PRIMARY KEY, \n",
    "\tcustomer_name VARCHAR(20),\n",
    "\tcity VARCHAR(20)\n",
    ");\n",
    "\n",
    "-- create table for orders\n",
    "CREATE TABLE orders (\n",
    "\torder_id serial PRIMARY KEY, \n",
    "\tcustomer_id INTEGER,\n",
    "\torder_date DATE, \n",
    "\ttotal_amount FLOAT, \n",
    "\tFOREIGN KEY (customer_id) REFERENCES customers (customer_id)\n",
    ");\n",
    "\n",
    "-- input data in table customers\n",
    "INSERT INTO customers (customer_name, city)\n",
    "VALUES\n",
    "\t('John Doe', 'New York'),\n",
    "\t('Jane Smith', 'Los Angeles'),\n",
    "\t('David Johnson', 'Chicago');\n",
    "\t\n",
    "-- input data in table orders\t\n",
    "INSERT INTO orders (customer_id, order_date, total_amount)\n",
    "VALUES\n",
    "\t(1 ,'2022-01-10', 100.00),\n",
    "\t(1, '2022-02-15', 150.00),\n",
    "\t(2, '2022-03-20', 200.00),\n",
    "\t(3, '2022-04-25', 50.00);\n",
    "\n",
    "\n",
    "-- Total number of orders made by each customer \n",
    "SELECT customers.customer_name, Count(Customers.customer_name) as total_orders\n",
    "FROM Orders\n",
    "INNER JOIN customers ON orders.customer_id=customers.customer_id\n",
    "GROUP BY\n",
    "      customers.customer_name;\n",
    "\t"
   ]
  }
 ],
 "metadata": {
  "language_info": {
   "name": "python"
  }
 },
 "nbformat": 4,
 "nbformat_minor": 2
}
