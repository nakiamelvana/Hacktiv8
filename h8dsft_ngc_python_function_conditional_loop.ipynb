{
 "cells": [
  {
   "cell_type": "markdown",
   "metadata": {},
   "source": [
    "Task 1- Number of Word\n",
    "Create a function that count the number of word in a sentence.\n",
    "\n",
    "Instruction:\n",
    "1.Create function called `number_of_word`.\n",
    "2.This function takes 1 input, `sentence`.\n",
    "3.Inside this function, you can utilize `.split()` method to split the sentence into list of word(s).\n",
    "4.Also, `len()` function to count the element inside a list.\n",
    "5.Return the number of word from the sentence."
   ]
  },
  {
   "cell_type": "code",
   "execution_count": 1,
   "metadata": {},
   "outputs": [
    {
     "data": {
      "text/plain": [
       "8"
      ]
     },
     "execution_count": 1,
     "metadata": {},
     "output_type": "execute_result"
    }
   ],
   "source": [
    "def number_of_word(sentence):\n",
    "    list_of_words = sentence.split()\n",
    "    output = len(list_of_words)\n",
    "    \n",
    "    return output\n",
    "\n",
    "number_of_word(\"Once Upon a Time in a faraway land\")\n"
   ]
  },
  {
   "cell_type": "markdown",
   "metadata": {},
   "source": [
    "Task 2 - Find Multiple\n",
    "Create a function that will get list of number(s) from a certain range that multiples of given number.\n",
    "Instruction:\n",
    "1.Create function called `find_multiples`.\n",
    "2.This function takes 3 input: `start_range`, `end_range`, and `multiple`.\n",
    "3.From every number within the given range, check if that number is the mutliples of `multiple`.\n",
    "4.Return list of the possible multiple number(s)"
   ]
  },
  {
   "cell_type": "code",
   "execution_count": 13,
   "metadata": {},
   "outputs": [
    {
     "name": "stdout",
     "output_type": "stream",
     "text": [
      "[5, 10, 15]\n"
     ]
    }
   ],
   "source": [
    "def find_multiples(start_range, end_range, multiple):\n",
    "    numbers = range(start_range, end_range)\n",
    "    multiples = []\n",
    "    for number in numbers:\n",
    "        if number % multiple == 0:\n",
    "            multiples.append(number)\n",
    "\n",
    "    print(multiples)\n",
    "\n",
    "\n",
    "find_multiples(1,20,5)"
   ]
  },
  {
   "cell_type": "markdown",
   "metadata": {},
   "source": [
    "Task 3 - Grade Converter\n",
    "Create a function that will convert student’s grade to GPA.\n",
    "\n",
    "Instruction:\n",
    "1.Create function called `Grade_Converter`.\n",
    "2.This function takes input: `convert_to` and n-paired of student(s) name with its respective score.\n",
    "3.Input argument for `convert_to` is either `letter_grade` or `gpa`.\n",
    "4.You can utilize **kwargs input argument to generate n-length paired of student(s) name with its respective score (Dictionary).\n",
    "5.This function will return dictionary of student’s name along with converted Letter Grade or GPA, depending on user input in `convert_to` parameter."
   ]
  },
  {
   "cell_type": "code",
   "execution_count": 25,
   "metadata": {},
   "outputs": [
    {
     "name": "stdout",
     "output_type": "stream",
     "text": [
      "Daftar Siswa: {'Adam': 62, 'Faiz': 91}\n",
      "daftar_nama: ['Adam', 'Faiz']\n",
      "nilai: [62, 91]\n",
      "{'Adam': 2.5, 'Faiz': 4}\n"
     ]
    }
   ],
   "source": [
    "def Grade_Converter (convert_to, **n):\n",
    "    print('Daftar Siswa:', n)\n",
    "\n",
    "    gpa ={}\n",
    "    letter_grade={}\n",
    "\n",
    "    daftar_nama = list(n.keys())\n",
    "    daftar_nilai = list(n.values())\n",
    "    print('daftar_nama:', daftar_nama)\n",
    "    print('nilai:', daftar_nilai)\n",
    "\n",
    "    if convert_to == 'gpa':\n",
    "        for nama in range(0, len(daftar_nama)):\n",
    "            if daftar_nilai[nama] >= 85:\n",
    "                gpa.update({daftar_nama[nama]: 4})\n",
    "            elif daftar_nilai[nama] >= 70:\n",
    "                gpa.update({daftar_nama[nama]: 3})\n",
    "            elif daftar_nilai[nama] >= 60:\n",
    "                gpa.update({daftar_nama[nama]: 2.5})\n",
    "            elif daftar_nilai[nama] >= 50:\n",
    "                gpa.update({daftar_nama[nama]: 2})\n",
    "            elif daftar_nilai[nama] >= 40:\n",
    "                gpa.update({daftar_nama[nama]: 1.5})\n",
    "            elif daftar_nilai[nama] < 40:\n",
    "                gpa.update({daftar_nama[nama]: 1})\n",
    "        print(gpa)\n",
    "    elif convert_to == 'letter_grade':\n",
    "        for nama in range(0, len(daftar_nama)):\n",
    "            if daftar_nilai[nama] >= 85:\n",
    "                letter_grade.update({daftar_nama[nama]: 'A'})\n",
    "            elif daftar_nilai[nama] >= 70:\n",
    "                letter_grade.update({daftar_nama[nama]: 'B'})\n",
    "            elif daftar_nilai[nama] >= 60:\n",
    "                letter_grade.update({daftar_nama[nama]: 'C'})\n",
    "            elif daftar_nilai[nama] >= 50:\n",
    "                letter_grade.update({daftar_nama[nama]: 'D'})\n",
    "            elif daftar_nilai[nama] >= 40:\n",
    "                letter_grade.update({daftar_nama[nama]: 'E'})\n",
    "            elif daftar_nilai[nama] < 40:\n",
    "                letter_grade.update({daftar_nama[nama]: 'F'})\n",
    "        print(letter_grade)\n",
    "\n",
    "Grade_Converter(convert_to='gpa', Adam=62, Faiz=91)\n",
    "   "
   ]
  },
  {
   "cell_type": "markdown",
   "metadata": {},
   "source": [
    "Task 4 - Fibonacci Sequence\n",
    "create a function that will return the value of n-th fibonacci number.\n",
    "Instruction:\n",
    "1.The function will take 1 input parameter, n, represents the asked number from our fibonacci sequence index.\n",
    "2.The fibonacci sequence will start with the value of 0 and 1.\n",
    "3.This function will return the n-th value from fibonacci sequence."
   ]
  },
  {
   "cell_type": "code",
   "execution_count": 19,
   "metadata": {},
   "outputs": [
    {
     "name": "stdout",
     "output_type": "stream",
     "text": [
      "6765\n"
     ]
    }
   ],
   "source": [
    "def fibonacci(n):\n",
    "    m = [0, 1]\n",
    "    a = 0\n",
    "    x = 2\n",
    "    if n == 0:\n",
    "        print(m[0])\n",
    "    elif n == 1:\n",
    "        print(m[1])\n",
    "    else:\n",
    "         while x <= n:\n",
    "            a = m[x-1] + m[x-2]\n",
    "            m.append(a)\n",
    "            x = x + 1\n",
    "    print(m[n])\n",
    "\n",
    "fibonacci(20)"
   ]
  }
 ],
 "metadata": {
  "kernelspec": {
   "display_name": "base",
   "language": "python",
   "name": "python3"
  },
  "language_info": {
   "codemirror_mode": {
    "name": "ipython",
    "version": 3
   },
   "file_extension": ".py",
   "mimetype": "text/x-python",
   "name": "python",
   "nbconvert_exporter": "python",
   "pygments_lexer": "ipython3",
   "version": "3.11.5"
  }
 },
 "nbformat": 4,
 "nbformat_minor": 2
}
